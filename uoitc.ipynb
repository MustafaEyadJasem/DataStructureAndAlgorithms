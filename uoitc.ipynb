{
  "nbformat": 4,
  "nbformat_minor": 0,
  "metadata": {
    "colab": {
      "provenance": [],
      "authorship_tag": "ABX9TyMdFNA53ueY9qRwLoJK3jpK",
      "include_colab_link": true
    },
    "kernelspec": {
      "name": "python3",
      "display_name": "Python 3"
    },
    "language_info": {
      "name": "python"
    }
  },
  "cells": [
    {
      "cell_type": "markdown",
      "metadata": {
        "id": "view-in-github",
        "colab_type": "text"
      },
      "source": [
        "<a href=\"https://colab.research.google.com/github/MustafaEyadJasem/DataStructureAndAlgorithms/blob/master/uoitc.ipynb\" target=\"_parent\"><img src=\"https://colab.research.google.com/assets/colab-badge.svg\" alt=\"Open In Colab\"/></a>"
      ]
    },
    {
      "cell_type": "markdown",
      "source": [
        "##Caesar cipher"
      ],
      "metadata": {
        "id": "6r2pOOTNvq75"
      }
    },
    {
      "cell_type": "code",
      "execution_count": null,
      "metadata": {
        "colab": {
          "base_uri": "https://localhost:8080/"
        },
        "id": "fNSoMgwGvY9w",
        "outputId": "54032b4a-4935-4635-d8da-75a1b52e1201"
      },
      "outputs": [
        {
          "output_type": "stream",
          "name": "stdout",
          "text": [
            "Task 1 - Encrypted (uppercase only): KHDOWK\n",
            "Task 2 - Encrypted (mixed case): Khdowk\n",
            "Task 3 - Decrypted message: HEALTH\n"
          ]
        }
      ],
      "source": [
        "def caesar_encrypt_upper(text, key):\n",
        "    result = ''\n",
        "    for char in text:\n",
        "        if char.isupper():\n",
        "            # Encrypt uppercase letters\n",
        "            result += chr((ord(char) - ord('A') + key) % 26 + ord('A'))\n",
        "    return result\n",
        "\n",
        "def caesar_encrypt_mixed(text, key):\n",
        "    result = ''\n",
        "    for char in text:\n",
        "        if char.isupper():\n",
        "            result += chr((ord(char) - ord('A') + key) % 26 + ord('A'))\n",
        "        elif char.islower():\n",
        "            result += chr((ord(char) - ord('a') + key) % 26 + ord('a'))\n",
        "        else:\n",
        "            result += char  # Keep non-alphabet characters unchanged\n",
        "    return result\n",
        "\n",
        "def caesar_decrypt_upper(cipher_text, key):\n",
        "    result = ''\n",
        "    for char in cipher_text:\n",
        "        if char.isupper():\n",
        "            # Decrypt uppercase letters\n",
        "            result += chr((ord(char) - ord('A') - key) % 26 + ord('A'))\n",
        "    return result\n",
        "\n",
        "# Task 1: Encrypt uppercase text\n",
        "message1 = \"HEALTH\"\n",
        "key = 3\n",
        "cipher1 = caesar_encrypt_upper(message1, key)\n",
        "print(\"Task 1 - Encrypted (uppercase only):\", cipher1)\n",
        "\n",
        "# Task 2: Encrypt mixed case text\n",
        "message2 = \"Health\"\n",
        "cipher2 = caesar_encrypt_mixed(message2, key)\n",
        "print(\"Task 2 - Encrypted (mixed case):\", cipher2)\n",
        "\n",
        "# Task 3: Decrypt uppercase cipher text\n",
        "decrypted = caesar_decrypt_upper(cipher1, key)\n",
        "print(\"Task 3 - Decrypted message:\", decrypted)\n"
      ]
    },
    {
      "cell_type": "markdown",
      "source": [
        "##Decimation cipher"
      ],
      "metadata": {
        "id": "m619UuMpwLYb"
      }
    },
    {
      "cell_type": "code",
      "source": [
        "def encrypt(text, k):\n",
        "    result = \"\"\n",
        "    for char in text:\n",
        "        if char.isupper():\n",
        "            # Encrypt uppercase characters\n",
        "            result += chr((ord(char) * k - 65) % 26 + 65)\n",
        "        else:\n",
        "            # Encrypt lowercase characters\n",
        "            result += chr((ord(char) * k - 97) % 26 + 97)\n",
        "    return result\n",
        "\n",
        "# Example usage:\n",
        "message = \"health\"\n",
        "encryption_value = 7\n",
        "encrypted_message = encrypt(message, encryption_value)\n",
        "print(\"Encrypted message:\", encrypted_message)\n"
      ],
      "metadata": {
        "colab": {
          "base_uri": "https://localhost:8080/"
        },
        "id": "W8h0FD7_wMCr",
        "outputId": "31d1a05c-a623-4b6d-d0f4-493f5fad0f0b"
      },
      "execution_count": null,
      "outputs": [
        {
          "output_type": "stream",
          "name": "stdout",
          "text": [
            "Encrypted message: hmkjnh\n"
          ]
        }
      ]
    },
    {
      "cell_type": "markdown",
      "source": [
        "##Affine Cipher"
      ],
      "metadata": {
        "id": "NgwAC-hswgc8"
      }
    },
    {
      "cell_type": "code",
      "source": [
        "def affine_encrypt(text, a, b):\n",
        "    result = \"\"\n",
        "    for char in text:\n",
        "        if char.isupper():\n",
        "            result += chr((((ord(char) - 65) * a + b) % 26) + 65)\n",
        "        else:\n",
        "            result += chr((((ord(char) - 97) * a + b) % 26) + 97)\n",
        "    return result\n",
        "\n",
        "# Example usage\n",
        "message = \"hello\"\n",
        "key1 = 5\n",
        "key0 = 7\n",
        "encrypted = affine_encrypt(message, key1, key0)\n",
        "print(\"Encrypted text:\", encrypted)\n"
      ],
      "metadata": {
        "colab": {
          "base_uri": "https://localhost:8080/"
        },
        "id": "0YYkSAytw_NK",
        "outputId": "97579029-ca61-44a1-ec72-f5a71ee93533"
      },
      "execution_count": null,
      "outputs": [
        {
          "output_type": "stream",
          "name": "stdout",
          "text": [
            "Encrypted text: qbkkz\n"
          ]
        }
      ]
    },
    {
      "cell_type": "markdown",
      "source": [
        "##Keyword mix Cipher"
      ],
      "metadata": {
        "id": "dD9Qx_fxxH_w"
      }
    },
    {
      "cell_type": "code",
      "source": [
        "def generate_cipher_alphabet(keyword):\n",
        "    keyword = \"\".join(sorted(set(keyword.upper()), key=keyword.upper().index))\n",
        "    alphabet = \"ABCDEFGHIJKLMNOPQRSTUVWXYZ\"\n",
        "    return keyword + \"\".join(c for c in alphabet if c not in keyword)\n",
        "\n",
        "def encrypt(plaintext, keyword):\n",
        "    cipher = generate_cipher_alphabet(keyword)\n",
        "    alphabet = \"ABCDEFGHIJKLMNOPQRSTUVWXYZ\"\n",
        "    return \"\".join(cipher[alphabet.index(c)] for c in plaintext.upper() if c in alphabet)\n",
        "\n",
        "def decrypt(ciphertext, keyword):\n",
        "    cipher = generate_cipher_alphabet(keyword)\n",
        "    alphabet = \"ABCDEFGHIJKLMNOPQRSTUVWXYZ\"\n",
        "    return \"\".join(alphabet[cipher.index(c)] for c in ciphertext if c in cipher)\n",
        "\n",
        "# Example usage\n",
        "keyword = \"UoITC\"\n",
        "plaintext = \"Good Morning for everyone\"\n",
        "\n",
        "encrypted_text = encrypt(plaintext, keyword)\n",
        "print(\"Encrypted:\", encrypted_text)\n",
        "\n",
        "decrypted_text = decrypt(encrypted_text, keyword)\n",
        "print(\"Decrypted:\", decrypted_text)\n"
      ],
      "metadata": {
        "colab": {
          "base_uri": "https://localhost:8080/"
        },
        "id": "_TZEX9v_xLEC",
        "outputId": "370f6b6c-711a-476c-b800-1ba202d6a746"
      },
      "execution_count": null,
      "outputs": [
        {
          "output_type": "stream",
          "name": "stdout",
          "text": [
            "Encrypted: BLLTJLPKEKBALPCVCPYLKC\n",
            "Decrypted: GOODMORNINGFOREVERYONE\n"
          ]
        }
      ]
    }
  ]
}